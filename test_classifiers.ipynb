{
 "cells": [
  {
   "cell_type": "code",
   "execution_count": 1,
   "metadata": {},
   "outputs": [],
   "source": [
    "import classifiers as clfs\n",
    "from util import get_data, print_metrics\n",
    "import time"
   ]
  },
  {
   "cell_type": "code",
   "execution_count": 2,
   "metadata": {},
   "outputs": [],
   "source": [
    "x_train, y_train, x_test, y_test = get_data()"
   ]
  },
  {
   "cell_type": "code",
   "execution_count": 3,
   "metadata": {},
   "outputs": [
    {
     "name": "stdout",
     "output_type": "stream",
     "text": [
      "Naive Bayes Statistics\n",
      "Runtime:  0.020028114318847656\n",
      "Accuracy:  0.6\n",
      "Precision:  0.602510460251046\n",
      "F1 Score:  0.7384615384615384\n"
     ]
    }
   ],
   "source": [
    "st = time.time() # start time\n",
    "y_nb = clfs.naiveBayes(x_train, y_train, x_test)\n",
    "et = time.time() # end time\n",
    "print(\"Naive Bayes Statistics\")\n",
    "print(\"Runtime: \", et - st)\n",
    "print_metrics(y_nb, y_test)"
   ]
  },
  {
   "cell_type": "code",
   "execution_count": 4,
   "metadata": {},
   "outputs": [
    {
     "name": "stdout",
     "output_type": "stream",
     "text": [
      "Logistic Regression Statistics\n",
      "Runtime:  0.022763729095458984\n",
      "Accuracy:  0.592156862745098\n",
      "Precision:  0.592156862745098\n",
      "F1 Score:  0.7438423645320197\n"
     ]
    }
   ],
   "source": [
    "st = time.time()\n",
    "y_lr = clfs.logistricRegression(x_train, y_train, x_test)\n",
    "et = time.time()\n",
    "print(\"Logistic Regression Statistics\")\n",
    "print(\"Runtime: \", et - st)\n",
    "print_metrics(y_lr, y_test)"
   ]
  },
  {
   "cell_type": "code",
   "execution_count": 5,
   "metadata": {},
   "outputs": [
    {
     "name": "stdout",
     "output_type": "stream",
     "text": [
      "Decision Tree Statistics\n",
      "Runtime:  0.034542083740234375\n",
      "Accuracy:  0.5294117647058824\n",
      "Precision:  0.6099290780141844\n",
      "F1 Score:  0.589041095890411\n"
     ]
    }
   ],
   "source": [
    "st = time.time()\n",
    "y_dt = clfs.decisionTree(x_train, y_train, x_test)\n",
    "et = time.time()\n",
    "print(\"Decision Tree Statistics\")\n",
    "print(\"Runtime: \", et - st)\n",
    "print_metrics(y_dt, y_test)"
   ]
  },
  {
   "cell_type": "code",
   "execution_count": 6,
   "metadata": {},
   "outputs": [
    {
     "name": "stdout",
     "output_type": "stream",
     "text": [
      "Random Forest (n = {n}) Statistics\n",
      "Runtime:  0.542156457901001\n",
      "Accuracy:  0.5764705882352941\n",
      "Precision:  0.6214689265536724\n",
      "F1 Score:  0.6707317073170732\n"
     ]
    }
   ],
   "source": [
    "st = time.time()\n",
    "y_rf = clfs.randomForest(x_train, y_train, x_test, 100)\n",
    "et = time.time()\n",
    "print(\"Random Forest (n = {n}) Statistics\")\n",
    "print(\"Runtime: \", et - st)\n",
    "print_metrics(y_rf, y_test)"
   ]
  },
  {
   "cell_type": "code",
   "execution_count": 7,
   "metadata": {},
   "outputs": [
    {
     "name": "stdout",
     "output_type": "stream",
     "text": [
      "Gradient Boost Statistics\n",
      "Runtime:  0.7807374000549316\n",
      "Accuracy:  0.6078431372549019\n",
      "Precision:  0.6321243523316062\n",
      "F1 Score:  0.7093023255813953\n"
     ]
    }
   ],
   "source": [
    "st = time.time()\n",
    "y_gb = clfs.gradientBoost(x_train, y_train, x_test)\n",
    "et = time.time()\n",
    "print(\"Gradient Boost Statistics\")\n",
    "print(\"Runtime: \", et - st)\n",
    "print_metrics(y_gb, y_test)"
   ]
  },
  {
   "cell_type": "code",
   "execution_count": 8,
   "metadata": {},
   "outputs": [
    {
     "name": "stdout",
     "output_type": "stream",
     "text": [
      "SVM Statistics\n",
      "Runtime:  0.22903823852539062\n",
      "Accuracy:  0.592156862745098\n",
      "Precision:  0.592156862745098\n",
      "F1 Score:  0.7438423645320197\n"
     ]
    }
   ],
   "source": [
    "st = time.time()\n",
    "y_svm = clfs.SVM(x_train, y_train, x_test)\n",
    "et = time.time()\n",
    "print(\"SVM Statistics\")\n",
    "print(\"Runtime: \", et - st)\n",
    "print_metrics(y_svm, y_test)"
   ]
  },
  {
   "cell_type": "code",
   "execution_count": 9,
   "metadata": {},
   "outputs": [
    {
     "name": "stdout",
     "output_type": "stream",
     "text": [
      "Neural Network Statistics\n",
      "Runtime:  0.673565149307251\n",
      "Accuracy:  0.592156862745098\n",
      "Precision:  0.592156862745098\n",
      "F1 Score:  0.7438423645320197\n"
     ]
    }
   ],
   "source": [
    "st = time.time()\n",
    "y_nn = clfs.neuralNetwork(x_train, y_train, x_test)\n",
    "et = time.time()\n",
    "print(\"Neural Network Statistics\")\n",
    "print(\"Runtime: \", et - st)\n",
    "print_metrics(y_nn, y_test)"
   ]
  }
 ],
 "metadata": {
  "kernelspec": {
   "display_name": ".venv",
   "language": "python",
   "name": "python3"
  },
  "language_info": {
   "codemirror_mode": {
    "name": "ipython",
    "version": 3
   },
   "file_extension": ".py",
   "mimetype": "text/x-python",
   "name": "python",
   "nbconvert_exporter": "python",
   "pygments_lexer": "ipython3",
   "version": "3.11.1"
  }
 },
 "nbformat": 4,
 "nbformat_minor": 2
}
