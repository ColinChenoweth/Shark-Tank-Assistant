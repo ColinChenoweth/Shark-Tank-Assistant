{
 "cells": [
  {
   "cell_type": "code",
   "execution_count": 1,
   "metadata": {},
   "outputs": [],
   "source": [
    "import classifiers as clfs\n",
    "from util import get_data, print_metrics\n",
    "import time"
   ]
  },
  {
   "cell_type": "code",
   "execution_count": 2,
   "metadata": {},
   "outputs": [],
   "source": [
    "x_train, y_train, x_test, y_test = get_data()"
   ]
  },
  {
   "cell_type": "code",
   "execution_count": 11,
   "metadata": {},
   "outputs": [
    {
     "name": "stdout",
     "output_type": "stream",
     "text": [
      "Naive Bayes Statistics\n",
      "Runtime:  0.04259181022644043\n",
      "Accuracy:  0.35514018691588783\n",
      "Precision:  0.6\n",
      "F1 Score:  0.04166666666666667\n"
     ]
    }
   ],
   "source": [
    "st = time.time() # start time\n",
    "y_nb = clfs.naiveBayes(x_train, y_train, x_test)\n",
    "et = time.time() # end time\n",
    "print(\"Naive Bayes Statistics\")\n",
    "print(\"Runtime: \", et - st)\n",
    "print_metrics(y_nb, y_test)"
   ]
  },
  {
   "cell_type": "code",
   "execution_count": 5,
   "metadata": {},
   "outputs": [
    {
     "name": "stdout",
     "output_type": "stream",
     "text": [
      "Logistic Regression Statistics\n",
      "Runtime:  0.06682538986206055\n",
      "Accuracy:  0.6495327102803738\n",
      "Precision:  0.6495327102803738\n",
      "F1 Score:  0.7875354107648725\n"
     ]
    }
   ],
   "source": [
    "st = time.time()\n",
    "y_lr = clfs.logistricRegression(x_train, y_train, x_test)\n",
    "et = time.time()\n",
    "print(\"Logistic Regression Statistics\")\n",
    "print(\"Runtime: \", et - st)\n",
    "print_metrics(y_lr, y_test)"
   ]
  },
  {
   "cell_type": "code",
   "execution_count": 6,
   "metadata": {},
   "outputs": [
    {
     "name": "stdout",
     "output_type": "stream",
     "text": [
      "Decision Tree Statistics\n",
      "Runtime:  0.09828710556030273\n",
      "Accuracy:  0.5093457943925234\n",
      "Precision:  0.660377358490566\n",
      "F1 Score:  0.5714285714285713\n"
     ]
    }
   ],
   "source": [
    "st = time.time()\n",
    "y_dt = clfs.decisionTree(x_train, y_train, x_test)\n",
    "et = time.time()\n",
    "print(\"Decision Tree Statistics\")\n",
    "print(\"Runtime: \", et - st)\n",
    "print_metrics(y_dt, y_test)"
   ]
  },
  {
   "cell_type": "code",
   "execution_count": 7,
   "metadata": {},
   "outputs": [
    {
     "name": "stdout",
     "output_type": "stream",
     "text": [
      "Random Forest (n = {n}) Statistics\n",
      "Runtime:  0.456207275390625\n",
      "Accuracy:  0.5887850467289719\n",
      "Precision:  0.6783216783216783\n",
      "F1 Score:  0.6879432624113475\n"
     ]
    }
   ],
   "source": [
    "st = time.time()\n",
    "y_rf = clfs.randomForest(x_train, y_train, x_test, 100)\n",
    "et = time.time()\n",
    "print(\"Random Forest (n = {n}) Statistics\")\n",
    "print(\"Runtime: \", et - st)\n",
    "print_metrics(y_rf, y_test)"
   ]
  },
  {
   "cell_type": "code",
   "execution_count": 8,
   "metadata": {},
   "outputs": [
    {
     "name": "stdout",
     "output_type": "stream",
     "text": [
      "Gradient Boost Statistics\n",
      "Runtime:  0.6124560832977295\n",
      "Accuracy:  0.6822429906542056\n",
      "Precision:  0.738255033557047\n",
      "F1 Score:  0.763888888888889\n"
     ]
    }
   ],
   "source": [
    "st = time.time()\n",
    "y_gb = clfs.gradientBoost(x_train, y_train, x_test)\n",
    "et = time.time()\n",
    "print(\"Gradient Boost Statistics\")\n",
    "print(\"Runtime: \", et - st)\n",
    "print_metrics(y_gb, y_test)"
   ]
  },
  {
   "cell_type": "code",
   "execution_count": 9,
   "metadata": {},
   "outputs": [
    {
     "name": "stdout",
     "output_type": "stream",
     "text": [
      "SVM Statistics\n",
      "Runtime:  0.26476144790649414\n",
      "Accuracy:  0.6495327102803738\n",
      "Precision:  0.6495327102803738\n",
      "F1 Score:  0.7875354107648725\n"
     ]
    }
   ],
   "source": [
    "st = time.time()\n",
    "y_svm = clfs.SVM(x_train, y_train, x_test)\n",
    "et = time.time()\n",
    "print(\"SVM Statistics\")\n",
    "print(\"Runtime: \", et - st)\n",
    "print_metrics(y_svm, y_test)"
   ]
  },
  {
   "cell_type": "code",
   "execution_count": 10,
   "metadata": {},
   "outputs": [
    {
     "name": "stdout",
     "output_type": "stream",
     "text": [
      "Neural Network Statistics\n",
      "Runtime:  2.6514885425567627\n",
      "Accuracy:  0.616822429906542\n",
      "Precision:  0.6727272727272727\n",
      "F1 Score:  0.7302631578947368\n"
     ]
    }
   ],
   "source": [
    "st = time.time()\n",
    "y_nn = clfs.neuralNetwork(x_train, y_train, x_test)\n",
    "et = time.time()\n",
    "print(\"Neural Network Statistics\")\n",
    "print(\"Runtime: \", et - st)\n",
    "print_metrics(y_nn, y_test)"
   ]
  }
 ],
 "metadata": {
  "kernelspec": {
   "display_name": ".venv",
   "language": "python",
   "name": "python3"
  },
  "language_info": {
   "codemirror_mode": {
    "name": "ipython",
    "version": 3
   },
   "file_extension": ".py",
   "mimetype": "text/x-python",
   "name": "python",
   "nbconvert_exporter": "python",
   "pygments_lexer": "ipython3",
   "version": "3.11.1"
  }
 },
 "nbformat": 4,
 "nbformat_minor": 2
}
