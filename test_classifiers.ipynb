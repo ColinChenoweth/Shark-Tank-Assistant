{
 "cells": [
  {
   "cell_type": "code",
   "execution_count": 1,
   "metadata": {},
   "outputs": [],
   "source": [
    "import classifiers as clfs\n",
    "from util import get_data, print_metrics\n",
    "import time"
   ]
  },
  {
   "cell_type": "code",
   "execution_count": 2,
   "metadata": {},
   "outputs": [],
   "source": [
    "x_train, y_train, x_test, y_test = get_data()"
   ]
  },
  {
   "cell_type": "code",
   "execution_count": 3,
   "metadata": {},
   "outputs": [
    {
     "name": "stdout",
     "output_type": "stream",
     "text": [
      "Naive Bayes Statistics\n",
      "Runtime:  0.023967504501342773\n",
      "Accuracy:  0.6\n",
      "Precision:  0.602510460251046\n",
      "F1 Score:  0.7384615384615384\n"
     ]
    }
   ],
   "source": [
    "st = time.time() # start time\n",
    "y_nb = clfs.naiveBayes(x_train, y_train, x_test)\n",
    "et = time.time() # end time\n",
    "print(\"Naive Bayes Statistics\")\n",
    "print(\"Runtime: \", et - st)\n",
    "print_metrics(y_nb, y_test)"
   ]
  },
  {
   "cell_type": "code",
   "execution_count": 4,
   "metadata": {},
   "outputs": [
    {
     "name": "stdout",
     "output_type": "stream",
     "text": [
      "Logistic Regression Statistics\n",
      "Runtime:  0.03947901725769043\n",
      "Accuracy:  0.592156862745098\n",
      "Precision:  0.592156862745098\n",
      "F1 Score:  0.7438423645320197\n"
     ]
    }
   ],
   "source": [
    "st = time.time()\n",
    "y_lr = clfs.logistricRegression(x_train, y_train, x_test)\n",
    "et = time.time()\n",
    "print(\"Logistic Regression Statistics\")\n",
    "print(\"Runtime: \", et - st)\n",
    "print_metrics(y_lr, y_test)"
   ]
  },
  {
   "cell_type": "code",
   "execution_count": 5,
   "metadata": {},
   "outputs": [
    {
     "name": "stdout",
     "output_type": "stream",
     "text": [
      "Decision Tree Statistics\n",
      "Runtime:  0.06392359733581543\n",
      "Accuracy:  0.5450980392156862\n",
      "Precision:  0.6143790849673203\n",
      "F1 Score:  0.6184210526315789\n"
     ]
    }
   ],
   "source": [
    "st = time.time()\n",
    "y_dt = clfs.decisionTree(x_train, y_train, x_test)\n",
    "et = time.time()\n",
    "print(\"Decision Tree Statistics\")\n",
    "print(\"Runtime: \", et - st)\n",
    "print_metrics(y_dt, y_test)"
   ]
  },
  {
   "cell_type": "code",
   "execution_count": 6,
   "metadata": {},
   "outputs": [
    {
     "name": "stdout",
     "output_type": "stream",
     "text": [
      "Random Forest (n = {n}) Statistics\n",
      "Runtime:  0.8648953437805176\n",
      "Accuracy:  0.5725490196078431\n",
      "Precision:  0.6235294117647059\n",
      "F1 Score:  0.660436137071651\n"
     ]
    }
   ],
   "source": [
    "st = time.time()\n",
    "y_rf = clfs.randomForest(x_train, y_train, x_test, 100)\n",
    "et = time.time()\n",
    "print(\"Random Forest (n = {n}) Statistics\")\n",
    "print(\"Runtime: \", et - st)\n",
    "print_metrics(y_rf, y_test)"
   ]
  },
  {
   "cell_type": "code",
   "execution_count": 7,
   "metadata": {},
   "outputs": [
    {
     "name": "stdout",
     "output_type": "stream",
     "text": [
      "Gradient Boost Statistics\n",
      "Runtime:  0.6275506019592285\n",
      "Accuracy:  0.6078431372549019\n",
      "Precision:  0.6321243523316062\n",
      "F1 Score:  0.7093023255813953\n"
     ]
    }
   ],
   "source": [
    "st = time.time()\n",
    "y_gb = clfs.gradientBoost(x_train, y_train, x_test)\n",
    "et = time.time()\n",
    "print(\"Gradient Boost Statistics\")\n",
    "print(\"Runtime: \", et - st)\n",
    "print_metrics(y_gb, y_test)"
   ]
  },
  {
   "cell_type": "code",
   "execution_count": 8,
   "metadata": {},
   "outputs": [
    {
     "name": "stdout",
     "output_type": "stream",
     "text": [
      "SVM Statistics\n",
      "Runtime:  0.27994227409362793\n",
      "Accuracy:  0.592156862745098\n",
      "Precision:  0.592156862745098\n",
      "F1 Score:  0.7438423645320197\n"
     ]
    }
   ],
   "source": [
    "st = time.time()\n",
    "y_svm = clfs.SVM(x_train, y_train, x_test)\n",
    "et = time.time()\n",
    "print(\"SVM Statistics\")\n",
    "print(\"Runtime: \", et - st)\n",
    "print_metrics(y_svm, y_test)"
   ]
  },
  {
   "cell_type": "code",
   "execution_count": 9,
   "metadata": {},
   "outputs": [
    {
     "name": "stdout",
     "output_type": "stream",
     "text": [
      "Neural Network Statistics\n",
      "Runtime:  0.9666945934295654\n",
      "Accuracy:  0.592156862745098\n",
      "Precision:  0.592156862745098\n",
      "F1 Score:  0.7438423645320197\n"
     ]
    }
   ],
   "source": [
    "st = time.time()\n",
    "y_nn = clfs.neuralNetwork(x_train, y_train, x_test)\n",
    "et = time.time()\n",
    "print(\"Neural Network Statistics\")\n",
    "print(\"Runtime: \", et - st)\n",
    "print_metrics(y_nn, y_test)"
   ]
  }
 ],
 "metadata": {
  "kernelspec": {
   "display_name": ".venv",
   "language": "python",
   "name": "python3"
  },
  "language_info": {
   "codemirror_mode": {
    "name": "ipython",
    "version": 3
   },
   "file_extension": ".py",
   "mimetype": "text/x-python",
   "name": "python",
   "nbconvert_exporter": "python",
   "pygments_lexer": "ipython3",
   "version": "3.11.1"
  }
 },
 "nbformat": 4,
 "nbformat_minor": 2
}
