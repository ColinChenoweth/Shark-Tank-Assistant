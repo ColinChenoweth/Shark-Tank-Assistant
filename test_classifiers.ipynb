{
 "cells": [
  {
   "cell_type": "code",
   "execution_count": 1,
   "metadata": {},
   "outputs": [],
   "source": [
    "import classifiers as clfs\n",
    "from util import get_data, get_train_test, print_metrics\n",
    "from sklearn.model_selection import cross_val_score\n",
    "from sklearn.linear_model import LogisticRegression\n",
    "from sklearn.ensemble import GradientBoostingClassifier\n",
    "from sklearn import svm\n",
    "from sklearn.neural_network import MLPClassifier\n",
    "import time"
   ]
  },
  {
   "cell_type": "code",
   "execution_count": 2,
   "metadata": {},
   "outputs": [],
   "source": [
    "x, y = get_data()"
   ]
  },
  {
   "cell_type": "code",
   "execution_count": 3,
   "metadata": {},
   "outputs": [
    {
     "name": "stdout",
     "output_type": "stream",
     "text": [
      "Log Reg\n",
      "Runtime:  0.25724291801452637\n",
      "Accuracy:  0.5917467421350533\n",
      "Precision:  0.6138602152899935\n",
      "F1 Score:  0.7101714557008092\n",
      "\n",
      "Gradient Boosting\n",
      "Runtime:  5.418907403945923\n",
      "Accuracy:  0.47866262998552067\n",
      "Precision:  0.6070928186583566\n",
      "F1 Score:  0.4862777598561614\n",
      "\n",
      "SVM\n",
      "Runtime:  1.0128228664398193\n",
      "Accuracy:  0.5842613312272388\n",
      "Precision:  0.5858978168073864\n",
      "F1 Score:  0.7375638494779106\n",
      "\n",
      "NN\n",
      "Runtime:  3.263188123703003\n",
      "Accuracy:  0.588008424378044\n",
      "Precision:  0.5890748476180652\n",
      "F1 Score:  0.7377999163383008\n",
      "\n"
     ]
    }
   ],
   "source": [
    "cv_clfs = [LogisticRegression(), GradientBoostingClassifier(random_state=42), svm.SVC(), MLPClassifier(hidden_layer_sizes=int(2* len(x.columns) / 3), random_state=42, activation='logistic')]\n",
    "clf_names = [\"Log Reg\", \"Gradient Boosting\", \"SVM\", \"NN\"]\n",
    "for i, clf in enumerate(cv_clfs):\n",
    "    print(clf_names[i])\n",
    "    st = time.time()\n",
    "    acc_score = cross_val_score(clf, x, y, scoring='accuracy')\n",
    "    prec_score = cross_val_score(clf, x, y, scoring='precision')\n",
    "    f1_score = cross_val_score(clf, x, y, scoring='f1')\n",
    "    et = time.time()\n",
    "    print(\"Runtime: \", et - st)\n",
    "    print(\"Accuracy: \", acc_score.mean())\n",
    "    print(\"Precision: \", prec_score.mean())\n",
    "    print(\"F1 Score: \", f1_score.mean())\n",
    "    print()"
   ]
  },
  {
   "cell_type": "code",
   "execution_count": 4,
   "metadata": {},
   "outputs": [],
   "source": [
    "x_train, y_train, x_test, y_test = get_train_test()"
   ]
  },
  {
   "cell_type": "code",
   "execution_count": 5,
   "metadata": {},
   "outputs": [
    {
     "name": "stdout",
     "output_type": "stream",
     "text": [
      "Naive Bayes Statistics\n",
      "Runtime:  0.0\n",
      "Accuracy:  0.35514018691588783\n",
      "Precision:  0.6\n",
      "F1 Score:  0.04166666666666667\n"
     ]
    }
   ],
   "source": [
    "st = time.time() # start time\n",
    "y_nb = clfs.naiveBayes(x_train, y_train, x_test)\n",
    "et = time.time() # end time\n",
    "print(\"Naive Bayes Statistics\")\n",
    "print(\"Runtime: \", et - st)\n",
    "print_metrics(y_nb, y_test)"
   ]
  },
  {
   "cell_type": "code",
   "execution_count": 6,
   "metadata": {},
   "outputs": [
    {
     "name": "stdout",
     "output_type": "stream",
     "text": [
      "Logistic Regression Statistics\n",
      "Runtime:  0.004505157470703125\n",
      "Accuracy:  0.6495327102803738\n",
      "Precision:  0.6495327102803738\n",
      "F1 Score:  0.7875354107648725\n"
     ]
    }
   ],
   "source": [
    "st = time.time()\n",
    "y_lr = clfs.logistricRegression(x_train, y_train, x_test)\n",
    "et = time.time()\n",
    "print(\"Logistic Regression Statistics\")\n",
    "print(\"Runtime: \", et - st)\n",
    "print_metrics(y_lr, y_test)"
   ]
  },
  {
   "cell_type": "code",
   "execution_count": 7,
   "metadata": {},
   "outputs": [
    {
     "name": "stdout",
     "output_type": "stream",
     "text": [
      "Decision Tree Statistics\n",
      "Runtime:  0.013005971908569336\n",
      "Accuracy:  0.5700934579439252\n",
      "Precision:  0.6942148760330579\n",
      "F1 Score:  0.6461538461538461\n"
     ]
    }
   ],
   "source": [
    "st = time.time()\n",
    "y_dt = clfs.decisionTree(x_train, y_train, x_test)\n",
    "et = time.time()\n",
    "print(\"Decision Tree Statistics\")\n",
    "print(\"Runtime: \", et - st)\n",
    "print_metrics(y_dt, y_test)"
   ]
  },
  {
   "cell_type": "code",
   "execution_count": 8,
   "metadata": {},
   "outputs": [
    {
     "name": "stdout",
     "output_type": "stream",
     "text": [
      "Random Forest (n = {n}) Statistics\n",
      "Runtime:  0.23760104179382324\n",
      "Accuracy:  0.6401869158878505\n",
      "Precision:  0.7012987012987013\n",
      "F1 Score:  0.7372013651877133\n"
     ]
    }
   ],
   "source": [
    "st = time.time()\n",
    "y_rf = clfs.randomForest(x_train, y_train, x_test, 100)\n",
    "et = time.time()\n",
    "print(\"Random Forest (n = {n}) Statistics\")\n",
    "print(\"Runtime: \", et - st)\n",
    "print_metrics(y_rf, y_test)"
   ]
  },
  {
   "cell_type": "code",
   "execution_count": 9,
   "metadata": {},
   "outputs": [
    {
     "name": "stdout",
     "output_type": "stream",
     "text": [
      "Gradient Boost Statistics\n",
      "Runtime:  0.341555118560791\n",
      "Accuracy:  0.6588785046728972\n",
      "Precision:  0.726027397260274\n",
      "F1 Score:  0.7438596491228071\n"
     ]
    }
   ],
   "source": [
    "st = time.time()\n",
    "y_gb = clfs.gradientBoost(x_train, y_train, x_test)\n",
    "et = time.time()\n",
    "print(\"Gradient Boost Statistics\")\n",
    "print(\"Runtime: \", et - st)\n",
    "print_metrics(y_gb, y_test)"
   ]
  },
  {
   "cell_type": "code",
   "execution_count": 10,
   "metadata": {},
   "outputs": [
    {
     "name": "stdout",
     "output_type": "stream",
     "text": [
      "SVM Statistics\n",
      "Runtime:  0.06299328804016113\n",
      "Accuracy:  0.6495327102803738\n",
      "Precision:  0.6495327102803738\n",
      "F1 Score:  0.7875354107648725\n"
     ]
    }
   ],
   "source": [
    "st = time.time()\n",
    "y_svm = clfs.SVM(x_train, y_train, x_test)\n",
    "et = time.time()\n",
    "print(\"SVM Statistics\")\n",
    "print(\"Runtime: \", et - st)\n",
    "print_metrics(y_svm, y_test)"
   ]
  },
  {
   "cell_type": "code",
   "execution_count": 11,
   "metadata": {},
   "outputs": [
    {
     "name": "stdout",
     "output_type": "stream",
     "text": [
      "Neural Network Statistics\n",
      "Runtime:  0.23452329635620117\n",
      "Accuracy:  0.6308411214953271\n",
      "Precision:  0.6456310679611651\n",
      "F1 Score:  0.7710144927536232\n"
     ]
    }
   ],
   "source": [
    "st = time.time()\n",
    "y_nn = clfs.neuralNetwork(x_train, y_train, x_test)\n",
    "et = time.time()\n",
    "print(\"Neural Network Statistics\")\n",
    "print(\"Runtime: \", et - st)\n",
    "print_metrics(y_nn, y_test)"
   ]
  }
 ],
 "metadata": {
  "kernelspec": {
   "display_name": ".venv",
   "language": "python",
   "name": "python3"
  },
  "language_info": {
   "codemirror_mode": {
    "name": "ipython",
    "version": 3
   },
   "file_extension": ".py",
   "mimetype": "text/x-python",
   "name": "python",
   "nbconvert_exporter": "python",
   "pygments_lexer": "ipython3",
   "version": "3.11.1"
  }
 },
 "nbformat": 4,
 "nbformat_minor": 2
}
