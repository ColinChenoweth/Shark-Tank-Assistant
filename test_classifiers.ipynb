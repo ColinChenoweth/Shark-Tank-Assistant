{
 "cells": [
  {
   "cell_type": "code",
   "execution_count": 1,
   "metadata": {},
   "outputs": [],
   "source": [
    "import classifiers as clfs\n",
    "from util import get_data, print_metrics\n",
    "import time"
   ]
  },
  {
   "cell_type": "code",
   "execution_count": 2,
   "metadata": {},
   "outputs": [],
   "source": [
    "x_train, y_train, x_test, y_test = get_data()"
   ]
  },
  {
   "cell_type": "code",
   "execution_count": 3,
   "metadata": {},
   "outputs": [
    {
     "name": "stdout",
     "output_type": "stream",
     "text": [
      "Naive Bayes Statistics\n",
      "Runtime:  0.025569438934326172\n",
      "Accuracy:  0.5990783410138248\n",
      "Precision:  0.6009615384615384\n",
      "F1 Score:  0.7418397626112759\n"
     ]
    }
   ],
   "source": [
    "st = time.time() # start time\n",
    "y_nb = clfs.naiveBayes(x_train, y_train, x_test)\n",
    "et = time.time() # end time\n",
    "print(\"Naive Bayes Statistics\")\n",
    "print(\"Runtime: \", et - st)\n",
    "print_metrics(y_nb, y_test)"
   ]
  },
  {
   "cell_type": "code",
   "execution_count": 4,
   "metadata": {},
   "outputs": [
    {
     "name": "stdout",
     "output_type": "stream",
     "text": [
      "Logistic Regression Statistics\n",
      "Runtime:  0.04048585891723633\n",
      "Accuracy:  0.5944700460829493\n",
      "Precision:  0.5944700460829493\n",
      "F1 Score:  0.7456647398843931\n"
     ]
    }
   ],
   "source": [
    "st = time.time()\n",
    "y_lr = clfs.logistricRegression(x_train, y_train, x_test)\n",
    "et = time.time()\n",
    "print(\"Logistic Regression Statistics\")\n",
    "print(\"Runtime: \", et - st)\n",
    "print_metrics(y_lr, y_test)"
   ]
  },
  {
   "cell_type": "code",
   "execution_count": 5,
   "metadata": {},
   "outputs": [
    {
     "name": "stdout",
     "output_type": "stream",
     "text": [
      "Decision Tree Statistics\n",
      "Runtime:  0.033931732177734375\n",
      "Accuracy:  0.5345622119815668\n",
      "Precision:  0.6044776119402985\n",
      "F1 Score:  0.6159695817490495\n"
     ]
    }
   ],
   "source": [
    "st = time.time()\n",
    "y_dt = clfs.decisionTree(x_train, y_train, x_test)\n",
    "et = time.time()\n",
    "print(\"Decision Tree Statistics\")\n",
    "print(\"Runtime: \", et - st)\n",
    "print_metrics(y_dt, y_test)"
   ]
  },
  {
   "cell_type": "code",
   "execution_count": 6,
   "metadata": {},
   "outputs": [
    {
     "name": "stdout",
     "output_type": "stream",
     "text": [
      "Random Forest (n = {n}) Statistics\n",
      "Runtime:  0.5342767238616943\n",
      "Accuracy:  0.5990783410138248\n",
      "Precision:  0.6265060240963856\n",
      "F1 Score:  0.7050847457627119\n"
     ]
    }
   ],
   "source": [
    "st = time.time()\n",
    "y_rf = clfs.randomForest(x_train, y_train, x_test, 100)\n",
    "et = time.time()\n",
    "print(\"Random Forest (n = {n}) Statistics\")\n",
    "print(\"Runtime: \", et - st)\n",
    "print_metrics(y_rf, y_test)"
   ]
  },
  {
   "cell_type": "code",
   "execution_count": 7,
   "metadata": {},
   "outputs": [
    {
     "name": "stdout",
     "output_type": "stream",
     "text": [
      "Gradient Boost Statistics\n",
      "Runtime:  0.592522144317627\n",
      "Accuracy:  0.6267281105990783\n",
      "Precision:  0.6445783132530121\n",
      "F1 Score:  0.7254237288135593\n"
     ]
    }
   ],
   "source": [
    "st = time.time()\n",
    "y_gb = clfs.gradientBoost(x_train, y_train, x_test)\n",
    "et = time.time()\n",
    "print(\"Gradient Boost Statistics\")\n",
    "print(\"Runtime: \", et - st)\n",
    "print_metrics(y_gb, y_test)"
   ]
  },
  {
   "cell_type": "code",
   "execution_count": 8,
   "metadata": {},
   "outputs": [
    {
     "name": "stdout",
     "output_type": "stream",
     "text": [
      "SVM Statistics\n",
      "Runtime:  0.19509100914001465\n",
      "Accuracy:  0.5944700460829493\n",
      "Precision:  0.5944700460829493\n",
      "F1 Score:  0.7456647398843931\n"
     ]
    }
   ],
   "source": [
    "st = time.time()\n",
    "y_svm = clfs.SVM(x_train, y_train, x_test)\n",
    "et = time.time()\n",
    "print(\"SVM Statistics\")\n",
    "print(\"Runtime: \", et - st)\n",
    "print_metrics(y_svm, y_test)"
   ]
  },
  {
   "cell_type": "code",
   "execution_count": 9,
   "metadata": {},
   "outputs": [
    {
     "name": "stdout",
     "output_type": "stream",
     "text": [
      "Neural Network Statistics\n",
      "Runtime:  1.3274366855621338\n",
      "Accuracy:  0.5944700460829493\n",
      "Precision:  0.5980861244019139\n",
      "F1 Score:  0.7396449704142012\n"
     ]
    }
   ],
   "source": [
    "st = time.time()\n",
    "y_nn = clfs.neuralNetwork(x_train, y_train, x_test)\n",
    "et = time.time()\n",
    "print(\"Neural Network Statistics\")\n",
    "print(\"Runtime: \", et - st)\n",
    "print_metrics(y_nn, y_test)"
   ]
  }
 ],
 "metadata": {
  "kernelspec": {
   "display_name": ".venv",
   "language": "python",
   "name": "python3"
  },
  "language_info": {
   "codemirror_mode": {
    "name": "ipython",
    "version": 3
   },
   "file_extension": ".py",
   "mimetype": "text/x-python",
   "name": "python",
   "nbconvert_exporter": "python",
   "pygments_lexer": "ipython3",
   "version": "3.11.1"
  }
 },
 "nbformat": 4,
 "nbformat_minor": 2
}
