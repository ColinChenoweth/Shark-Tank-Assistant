{
 "cells": [
  {
   "cell_type": "code",
   "execution_count": 1,
   "metadata": {},
   "outputs": [],
   "source": [
    "import classifiers as clfs\n",
    "from util import get_data, print_metrics\n",
    "import time"
   ]
  },
  {
   "cell_type": "code",
   "execution_count": 2,
   "metadata": {},
   "outputs": [],
   "source": [
    "x_train, y_train, x_test, y_test = get_data()"
   ]
  },
  {
   "cell_type": "code",
   "execution_count": 3,
   "metadata": {},
   "outputs": [
    {
     "name": "stdout",
     "output_type": "stream",
     "text": [
      "Naive Bayes Statistics\n",
      "Runtime:  0.020531415939331055\n",
      "Accuracy:  0.35514018691588783\n",
      "Precision:  0.6\n",
      "F1 Score:  0.04166666666666667\n"
     ]
    }
   ],
   "source": [
    "st = time.time() # start time\n",
    "y_nb = clfs.naiveBayes(x_train, y_train, x_test)\n",
    "et = time.time() # end time\n",
    "print(\"Naive Bayes Statistics\")\n",
    "print(\"Runtime: \", et - st)\n",
    "print_metrics(y_nb, y_test)"
   ]
  },
  {
   "cell_type": "code",
   "execution_count": 4,
   "metadata": {},
   "outputs": [
    {
     "name": "stdout",
     "output_type": "stream",
     "text": [
      "Logistic Regression Statistics\n",
      "Runtime:  0.02499985694885254\n",
      "Accuracy:  0.6495327102803738\n",
      "Precision:  0.6495327102803738\n",
      "F1 Score:  0.7875354107648725\n"
     ]
    }
   ],
   "source": [
    "st = time.time()\n",
    "y_lr = clfs.logistricRegression(x_train, y_train, x_test)\n",
    "et = time.time()\n",
    "print(\"Logistic Regression Statistics\")\n",
    "print(\"Runtime: \", et - st)\n",
    "print_metrics(y_lr, y_test)"
   ]
  },
  {
   "cell_type": "code",
   "execution_count": 5,
   "metadata": {},
   "outputs": [
    {
     "name": "stdout",
     "output_type": "stream",
     "text": [
      "Decision Tree Statistics\n",
      "Runtime:  0.03430485725402832\n",
      "Accuracy:  0.5794392523364486\n",
      "Precision:  0.7024793388429752\n",
      "F1 Score:  0.6538461538461539\n"
     ]
    }
   ],
   "source": [
    "st = time.time()\n",
    "y_dt = clfs.decisionTree(x_train, y_train, x_test)\n",
    "et = time.time()\n",
    "print(\"Decision Tree Statistics\")\n",
    "print(\"Runtime: \", et - st)\n",
    "print_metrics(y_dt, y_test)"
   ]
  },
  {
   "cell_type": "code",
   "execution_count": 6,
   "metadata": {},
   "outputs": [
    {
     "name": "stdout",
     "output_type": "stream",
     "text": [
      "Random Forest (n = {n}) Statistics\n",
      "Runtime:  0.40621495246887207\n",
      "Accuracy:  0.616822429906542\n",
      "Precision:  0.6706586826347305\n",
      "F1 Score:  0.7320261437908497\n"
     ]
    }
   ],
   "source": [
    "st = time.time()\n",
    "y_rf = clfs.randomForest(x_train, y_train, x_test, 100)\n",
    "et = time.time()\n",
    "print(\"Random Forest (n = {n}) Statistics\")\n",
    "print(\"Runtime: \", et - st)\n",
    "print_metrics(y_rf, y_test)"
   ]
  },
  {
   "cell_type": "code",
   "execution_count": 7,
   "metadata": {},
   "outputs": [
    {
     "name": "stdout",
     "output_type": "stream",
     "text": [
      "Gradient Boost Statistics\n",
      "Runtime:  0.8161008358001709\n",
      "Accuracy:  0.6355140186915887\n",
      "Precision:  0.7103448275862069\n",
      "F1 Score:  0.7253521126760563\n"
     ]
    }
   ],
   "source": [
    "st = time.time()\n",
    "y_gb = clfs.gradientBoost(x_train, y_train, x_test)\n",
    "et = time.time()\n",
    "print(\"Gradient Boost Statistics\")\n",
    "print(\"Runtime: \", et - st)\n",
    "print_metrics(y_gb, y_test)"
   ]
  },
  {
   "cell_type": "code",
   "execution_count": 8,
   "metadata": {},
   "outputs": [
    {
     "name": "stdout",
     "output_type": "stream",
     "text": [
      "SVM Statistics\n",
      "Runtime:  0.19222140312194824\n",
      "Accuracy:  0.6495327102803738\n",
      "Precision:  0.6495327102803738\n",
      "F1 Score:  0.7875354107648725\n"
     ]
    }
   ],
   "source": [
    "st = time.time()\n",
    "y_svm = clfs.SVM(x_train, y_train, x_test)\n",
    "et = time.time()\n",
    "print(\"SVM Statistics\")\n",
    "print(\"Runtime: \", et - st)\n",
    "print_metrics(y_svm, y_test)"
   ]
  },
  {
   "cell_type": "code",
   "execution_count": 9,
   "metadata": {},
   "outputs": [
    {
     "name": "stdout",
     "output_type": "stream",
     "text": [
      "Neural Network Statistics\n",
      "Runtime:  0.9589192867279053\n",
      "Accuracy:  0.6355140186915887\n",
      "Precision:  0.645933014354067\n",
      "F1 Score:  0.7758620689655172\n"
     ]
    }
   ],
   "source": [
    "st = time.time()\n",
    "y_nn = clfs.neuralNetwork(x_train, y_train, x_test)\n",
    "et = time.time()\n",
    "print(\"Neural Network Statistics\")\n",
    "print(\"Runtime: \", et - st)\n",
    "print_metrics(y_nn, y_test)"
   ]
  }
 ],
 "metadata": {
  "kernelspec": {
   "display_name": ".venv",
   "language": "python",
   "name": "python3"
  },
  "language_info": {
   "codemirror_mode": {
    "name": "ipython",
    "version": 3
   },
   "file_extension": ".py",
   "mimetype": "text/x-python",
   "name": "python",
   "nbconvert_exporter": "python",
   "pygments_lexer": "ipython3",
   "version": "3.11.1"
  }
 },
 "nbformat": 4,
 "nbformat_minor": 2
}
